{
 "cells": [
  {
   "cell_type": "markdown",
   "metadata": {},
   "source": [
    "# Assignment 6: Apply NB"
   ]
  },
  {
   "cell_type": "markdown",
   "metadata": {
    "colab_type": "text",
    "id": "12krXa2pb3c1"
   },
   "source": [
    "<ol>\n",
    "    <li><strong>Apply Multinomial NB on these feature sets</strong>\n",
    "        <ul>\n",
    "            <li><font color='red'>Set 1</font>: categorical, numerical features + preprocessed_eassay (BOW)</li>\n",
    "            <li><font color='red'>Set 2</font>: categorical, numerical features + preprocessed_eassay (TFIDF)</li>\n",
    "        </ul>\n",
    "    </li>\n",
    "    <li><strong>The hyper paramter tuning(find best alpha:smoothing parameter)</strong>\n",
    "        <ul>\n",
    "    <li>Find the best hyper parameter which will give the maximum <a href='https://www.appliedaicourse.com/course/applied-ai-course-online/lessons/receiver-operating-characteristic-curve-roc-curve-and-auc-1/'>AUC</a> value</li>\n",
    "    <li>find the best hyper paramter using k-fold cross validation(use GridsearchCV or RandomsearchCV)/simple cross validation data (write for loop to iterate over hyper parameter values)</li>\n",
    "    <li></li>\n",
    "        </ul>\n",
    "    </li>\n",
    "    <li>\n",
    "    <strong>Representation of results</strong>\n",
    "        <ul>\n",
    "    <li>You need to plot the performance of model both on train data and cross validation data for each hyper parameter, like shown in the figure\n",
    "    <img src='https://i.imgur.com/hUv6aEy.jpg' width=300px></li>\n",
    "    <li>Once after you found the best hyper parameter, you need to train your model with it, and find the AUC on test data and plot the ROC curve on both train and test.\n",
    "    <img src='https://i.imgur.com/wMQDTFe.jpg' width=300px></li>\n",
    "    <li>Along with plotting ROC curve, you need to print the <a href='https://www.appliedaicourse.com/course/applied-ai-course-online/lessons/confusion-matrix-tpr-fpr-fnr-tnr-1/'>confusion matrix</a> with predicted and original labels of test data points\n",
    "    <img src='https://i.imgur.com/IdN5Ctv.png' width=300px></li>\n",
    "        </ul>\n",
    "    </li>\n",
    "    <li>\n",
    "fine the top 20 features from either from feature <font color='red'>Set 1</font> or feature <font color='red'>Set 2</font> using absolute values of `feature_log_prob_ ` parameter of `MultinomialNB` \n",
    "(https://scikit-learn.org/stable/modules/generated/sklearn.naive_bayes.MultinomialNB.html) and print their corresponding feature names\n",
    "    </li>\n",
    "    <li>You need to summarize the results at the end of the notebook, summarize it in the table format\n",
    "        <img src='http://i.imgur.com/YVpIGGE.jpg' width=400px>\n",
    "    </li>\n",
    "</ol>"
   ]
  },
  {
   "cell_type": "markdown",
   "metadata": {
    "colab_type": "text",
    "id": "inzYCIaib3c3"
   },
   "source": [
    "<h1>2. Naive Bayes </h1>"
   ]
  },
  {
   "cell_type": "markdown",
   "metadata": {
    "colab_type": "text",
    "id": "FYqCIxzFb3c5"
   },
   "source": [
    "## 1.1 Loading Data"
   ]
  },
  {
   "cell_type": "code",
   "execution_count": 1,
   "metadata": {
    "colab": {},
    "colab_type": "code",
    "id": "dA1jknyqb3c_"
   },
   "outputs": [],
   "source": [
    "%matplotlib inline\n",
    "import warnings\n",
    "warnings.filterwarnings(\"ignore\")\n",
    "import pandas as pd\n",
    "import numpy as np\n",
    "import nltk\n",
    "import matplotlib.pyplot as plt\n",
    "import seaborn as sns\n",
    "from sklearn.feature_extraction.text import TfidfVectorizer\n",
    "from sklearn.feature_extraction.text import CountVectorizer\n",
    "from sklearn.metrics import confusion_matrix\n",
    "from sklearn import metrics\n",
    "from sklearn.metrics import roc_curve, auc\n",
    "import pandas\n",
    "data = pandas.read_csv('preprocessed_data.csv' , nrows = 55000)"
   ]
  },
  {
   "cell_type": "markdown",
   "metadata": {
    "colab_type": "text",
    "id": "WtVV13Fyb3dH"
   },
   "source": [
    "<h2>1.2 Splitting data into Train and cross validation(or test): Stratified Sampling</h2>"
   ]
  },
  {
   "cell_type": "code",
   "execution_count": 2,
   "metadata": {
    "colab": {},
    "colab_type": "code",
    "id": "i-PyprDNb3dI"
   },
   "outputs": [
    {
     "data": {
      "text/html": [
       "<div>\n",
       "<style scoped>\n",
       "    .dataframe tbody tr th:only-of-type {\n",
       "        vertical-align: middle;\n",
       "    }\n",
       "\n",
       "    .dataframe tbody tr th {\n",
       "        vertical-align: top;\n",
       "    }\n",
       "\n",
       "    .dataframe thead th {\n",
       "        text-align: right;\n",
       "    }\n",
       "</style>\n",
       "<table border=\"1\" class=\"dataframe\">\n",
       "  <thead>\n",
       "    <tr style=\"text-align: right;\">\n",
       "      <th></th>\n",
       "      <th>school_state</th>\n",
       "      <th>teacher_prefix</th>\n",
       "      <th>project_grade_category</th>\n",
       "      <th>teacher_number_of_previously_posted_projects</th>\n",
       "      <th>clean_categories</th>\n",
       "      <th>clean_subcategories</th>\n",
       "      <th>essay</th>\n",
       "      <th>price</th>\n",
       "    </tr>\n",
       "  </thead>\n",
       "  <tbody>\n",
       "    <tr>\n",
       "      <th>0</th>\n",
       "      <td>ca</td>\n",
       "      <td>mrs</td>\n",
       "      <td>grades_prek_2</td>\n",
       "      <td>53</td>\n",
       "      <td>math_science</td>\n",
       "      <td>appliedsciences health_lifescience</td>\n",
       "      <td>i fortunate enough use fairy tale stem kits cl...</td>\n",
       "      <td>725.05</td>\n",
       "    </tr>\n",
       "  </tbody>\n",
       "</table>\n",
       "</div>"
      ],
      "text/plain": [
       "  school_state teacher_prefix project_grade_category  \\\n",
       "0           ca            mrs          grades_prek_2   \n",
       "\n",
       "   teacher_number_of_previously_posted_projects clean_categories  \\\n",
       "0                                            53     math_science   \n",
       "\n",
       "                  clean_subcategories  \\\n",
       "0  appliedsciences health_lifescience   \n",
       "\n",
       "                                               essay   price  \n",
       "0  i fortunate enough use fairy tale stem kits cl...  725.05  "
      ]
     },
     "execution_count": 2,
     "metadata": {},
     "output_type": "execute_result"
    }
   ],
   "source": [
    "y = data['project_is_approved'].values\n",
    "X = data.drop(['project_is_approved'], axis=1)\n",
    "X.head(1)\n"
   ]
  },
  {
   "cell_type": "code",
   "execution_count": 3,
   "metadata": {},
   "outputs": [],
   "source": [
    "# train test\n",
    "from sklearn.model_selection import train_test_split\n",
    "X_train, X_test, y_train, y_test = train_test_split(X, y, test_size=0.33, stratify=y)\n",
    "X_train, X_cv, y_train, y_cv = train_test_split(X_train, y_train, test_size=0.33, stratify=y_train)"
   ]
  },
  {
   "cell_type": "code",
   "execution_count": 4,
   "metadata": {},
   "outputs": [],
   "source": [
    "features_list1 = []\n",
    "features_list2 = []"
   ]
  },
  {
   "cell_type": "markdown",
   "metadata": {
    "colab_type": "text",
    "id": "EnZwVNULb3dO"
   },
   "source": [
    "<h2>1.3 Make Data Model Ready: encoding eassay, and project_title</h2>"
   ]
  },
  {
   "cell_type": "code",
   "execution_count": 5,
   "metadata": {
    "colab": {},
    "colab_type": "code",
    "id": "-SczZKiab3dR"
   },
   "outputs": [
    {
     "name": "stdout",
     "output_type": "stream",
     "text": [
      "(24689, 8) (24689,)\n",
      "(12161, 8) (12161,)\n",
      "(18150, 8) (18150,)\n",
      "====================================================================================================\n",
      "After vectorizations\n",
      "(24689, 5000) (24689,)\n",
      "(12161, 5000) (12161,)\n",
      "(18150, 5000) (18150,)\n",
      "====================================================================================================\n"
     ]
    }
   ],
   "source": [
    "print(X_train.shape, y_train.shape)\n",
    "print(X_cv.shape, y_cv.shape)\n",
    "print(X_test.shape, y_test.shape)\n",
    "\n",
    "print(\"=\"*100)\n",
    "# BOW\n",
    "vectorizer = CountVectorizer(min_df=10,ngram_range=(1,4), max_features=5000)\n",
    "vectorizer.fit(X_train['essay'].values) \n",
    "\n",
    "X_train_essay_bow = vectorizer.transform(X_train['essay'].values)\n",
    "X_cv_essay_bow = vectorizer.transform(X_cv['essay'].values)\n",
    "X_test_essay_bow = vectorizer.transform(X_test['essay'].values)\n",
    "\n",
    "print(\"After vectorizations\")\n",
    "print(X_train_essay_bow.shape, y_train.shape)\n",
    "print(X_cv_essay_bow.shape, y_cv.shape)\n",
    "print(X_test_essay_bow.shape, y_test.shape)\n",
    "print(\"=\"*100)\n",
    "features_list1 = features_list1 + vectorizer.get_feature_names()\n",
    "\n",
    "#tfidf\n",
    "from sklearn.feature_extraction.text import TfidfVectorizer\n",
    "vectorizer = TfidfVectorizer(min_df = 10 , ngram_range = (1,4) , max_features = 5000)\n",
    "vectorizer.fit(X_train['essay'])\n",
    "X_train_essay_tfidf = vectorizer.transform(X_train['essay'])\n",
    "X_cv_essay_tfidf = vectorizer.transform(X_cv['essay'])\n",
    "X_test_essay_tfidf = vectorizer.transform(X_test['essay'])\n",
    "\n",
    "features_list2 = features_list2 + vectorizer.get_feature_names()"
   ]
  },
  {
   "cell_type": "markdown",
   "metadata": {
    "colab_type": "text",
    "id": "bGy86kgHb3dX"
   },
   "source": [
    "<h2>1.4 Make Data Model Ready: encoding numerical, categorical features</h2>"
   ]
  },
  {
   "cell_type": "code",
   "execution_count": 6,
   "metadata": {
    "colab": {},
    "colab_type": "code",
    "id": "EfXkofX1b3da"
   },
   "outputs": [
    {
     "name": "stdout",
     "output_type": "stream",
     "text": [
      "After vectorizations\n",
      "(24689, 51) (24689,)\n",
      "(12161, 51) (12161,)\n",
      "(18150, 51) (18150,)\n",
      "['ak', 'al', 'ar', 'az', 'ca', 'co', 'ct', 'dc', 'de', 'fl', 'ga', 'hi', 'ia', 'id', 'il', 'in', 'ks', 'ky', 'la', 'ma', 'md', 'me', 'mi', 'mn', 'mo', 'ms', 'mt', 'nc', 'nd', 'ne', 'nh', 'nj', 'nm', 'nv', 'ny', 'oh', 'ok', 'or', 'pa', 'ri', 'sc', 'sd', 'tn', 'tx', 'ut', 'va', 'vt', 'wa', 'wi', 'wv', 'wy']\n",
      "====================================================================================================\n"
     ]
    }
   ],
   "source": [
    "# school_state encoding\n",
    "vectorizer = CountVectorizer()\n",
    "vectorizer.fit(X_train['school_state'].values) \n",
    "\n",
    "\n",
    "X_train_state_ohe = vectorizer.transform(X_train['school_state'].values)\n",
    "X_cv_state_ohe = vectorizer.transform(X_cv['school_state'].values)\n",
    "X_test_state_ohe = vectorizer.transform(X_test['school_state'].values)\n",
    "\n",
    "print(\"After vectorizations\")\n",
    "print(X_train_state_ohe.shape, y_train.shape)\n",
    "print(X_cv_state_ohe.shape, y_cv.shape)\n",
    "print(X_test_state_ohe.shape, y_test.shape)\n",
    "print(vectorizer.get_feature_names())\n",
    "print(\"=\"*100)\n",
    "\n",
    "features_list1 = features_list1 + vectorizer.get_feature_names()\n",
    "features_list2 = features_list2 + vectorizer.get_feature_names()\n"
   ]
  },
  {
   "cell_type": "code",
   "execution_count": 7,
   "metadata": {},
   "outputs": [
    {
     "name": "stdout",
     "output_type": "stream",
     "text": [
      "After vectorizations\n",
      "(24689, 5) (24689,)\n",
      "(12161, 5) (12161,)\n",
      "(18150, 5) (18150,)\n",
      "['dr', 'mr', 'mrs', 'ms', 'teacher']\n",
      "====================================================================================================\n"
     ]
    }
   ],
   "source": [
    "# teacher_prefix encoding\n",
    "vectorizer = CountVectorizer()\n",
    "vectorizer.fit(X_train['teacher_prefix'].values) \n",
    "\n",
    "\n",
    "X_train_teacher_ohe = vectorizer.transform(X_train['teacher_prefix'].values)\n",
    "X_cv_teacher_ohe = vectorizer.transform(X_cv['teacher_prefix'].values)\n",
    "X_test_teacher_ohe = vectorizer.transform(X_test['teacher_prefix'].values)\n",
    "\n",
    "print(\"After vectorizations\")\n",
    "print(X_train_teacher_ohe.shape, y_train.shape)\n",
    "print(X_cv_teacher_ohe.shape, y_cv.shape)\n",
    "print(X_test_teacher_ohe.shape, y_test.shape)\n",
    "print(vectorizer.get_feature_names())\n",
    "print(\"=\"*100)\n",
    "\n",
    "features_list1 = features_list1 + vectorizer.get_feature_names()\n",
    "features_list2 = features_list2 + vectorizer.get_feature_names()"
   ]
  },
  {
   "cell_type": "code",
   "execution_count": 8,
   "metadata": {},
   "outputs": [
    {
     "name": "stdout",
     "output_type": "stream",
     "text": [
      "After vectorizations\n",
      "(24689, 4) (24689,)\n",
      "(12161, 4) (12161,)\n",
      "(18150, 4) (18150,)\n",
      "['grades_3_5', 'grades_6_8', 'grades_9_12', 'grades_prek_2']\n",
      "====================================================================================================\n"
     ]
    }
   ],
   "source": [
    "# project_grade_category encoding\n",
    "vectorizer = CountVectorizer()\n",
    "vectorizer.fit(X_train['project_grade_category'].values)\n",
    "\n",
    "\n",
    "X_train_grade_ohe = vectorizer.transform(X_train['project_grade_category'].values)\n",
    "X_cv_grade_ohe = vectorizer.transform(X_cv['project_grade_category'].values)\n",
    "X_test_grade_ohe = vectorizer.transform(X_test['project_grade_category'].values)\n",
    "\n",
    "print(\"After vectorizations\")\n",
    "print(X_train_grade_ohe.shape, y_train.shape)\n",
    "print(X_cv_grade_ohe.shape, y_cv.shape)\n",
    "print(X_test_grade_ohe.shape, y_test.shape)\n",
    "print(vectorizer.get_feature_names())\n",
    "print(\"=\"*100)\n",
    "\n",
    "features_list1 = features_list1 + vectorizer.get_feature_names()\n",
    "features_list2 = features_list2 + vectorizer.get_feature_names()"
   ]
  },
  {
   "cell_type": "code",
   "execution_count": 9,
   "metadata": {},
   "outputs": [
    {
     "name": "stdout",
     "output_type": "stream",
     "text": [
      "After vectorizations\n",
      "(24689, 7) (24689,)\n",
      "(12161, 7) (12161,)\n",
      "(18150, 7) (18150,)\n",
      "['appliedlearning', 'health_sports', 'history_civics', 'literacy_language', 'math_science', 'music_arts', 'specialneeds']\n",
      "====================================================================================================\n"
     ]
    }
   ],
   "source": [
    "# clean_categories encoding\n",
    "vectorizer = CountVectorizer()\n",
    "vectorizer.fit(X_train['clean_categories'].values) \n",
    "\n",
    "\n",
    "X_train_clean_cat = vectorizer.transform(X_train['clean_categories'].values)\n",
    "X_cv_clean_cat = vectorizer.transform(X_cv['clean_categories'].values)\n",
    "X_test_clean_cat = vectorizer.transform(X_test['clean_categories'].values)\n",
    "\n",
    "print(\"After vectorizations\")\n",
    "print(X_train_clean_cat.shape, y_train.shape)\n",
    "print(X_cv_clean_cat.shape, y_cv.shape)\n",
    "print(X_test_clean_cat.shape, y_test.shape)\n",
    "print(vectorizer.get_feature_names())\n",
    "print(\"=\"*100)\n",
    "\n",
    "features_list1 = features_list1 + vectorizer.get_feature_names()\n",
    "features_list2 = features_list2 + vectorizer.get_feature_names()"
   ]
  },
  {
   "cell_type": "code",
   "execution_count": 10,
   "metadata": {},
   "outputs": [
    {
     "name": "stdout",
     "output_type": "stream",
     "text": [
      "After vectorizations\n",
      "(24689, 28) (24689,)\n",
      "(12161, 28) (12161,)\n",
      "(18150, 28) (18150,)\n",
      "['appliedsciences', 'charactereducation', 'civics_government', 'college_careerprep', 'communityservice', 'earlydevelopment', 'economics', 'environmentalscience', 'esl', 'extracurricular', 'financialliteracy', 'foreignlanguages', 'gym_fitness', 'health_lifescience', 'health_wellness', 'history_geography', 'literacy', 'literature_writing', 'mathematics', 'music', 'nutritioneducation', 'other', 'parentinvolvement', 'performingarts', 'socialsciences', 'specialneeds', 'teamsports', 'visualarts']\n",
      "====================================================================================================\n"
     ]
    }
   ],
   "source": [
    "# clean_subcategories encoding\n",
    "vectorizer = CountVectorizer()\n",
    "vectorizer.fit(X_train['clean_subcategories'].values) \n",
    "\n",
    "X_train_clean_subcat = vectorizer.transform(X_train['clean_subcategories'].values)\n",
    "X_cv_clean_subcat = vectorizer.transform(X_cv['clean_subcategories'].values)\n",
    "X_test_clean_subcat = vectorizer.transform(X_test['clean_subcategories'].values)\n",
    "\n",
    "print(\"After vectorizations\")\n",
    "print(X_train_clean_subcat.shape, y_train.shape)\n",
    "print(X_cv_clean_subcat.shape, y_cv.shape)\n",
    "print(X_test_clean_subcat.shape, y_test.shape)\n",
    "print(vectorizer.get_feature_names())\n",
    "print(\"=\"*100)\n",
    "\n",
    "features_list1 = features_list1 + vectorizer.get_feature_names()\n",
    "features_list2 = features_list2 + vectorizer.get_feature_names()"
   ]
  },
  {
   "cell_type": "code",
   "execution_count": 11,
   "metadata": {},
   "outputs": [
    {
     "name": "stdout",
     "output_type": "stream",
     "text": [
      "After vectorizations\n",
      "(24689, 1) (24689,)\n",
      "(12161, 1) (12161,)\n",
      "(18150, 1) (18150,)\n",
      "====================================================================================================\n"
     ]
    }
   ],
   "source": [
    "# for price encoding\n",
    "from sklearn.preprocessing import Normalizer\n",
    "normalizer = Normalizer()\n",
    "\n",
    "normalizer.fit(X_train['price'].values.reshape(1,-1))\n",
    "\n",
    "X_train_price_norm = normalizer.transform(X_train['price'].values.reshape(1,-1)).reshape(-1,1)\n",
    "X_cv_price_norm = normalizer.transform(X_cv['price'].values.reshape(1,-1)).reshape(-1,1)\n",
    "X_test_price_norm = normalizer.transform(X_test['price'].values.reshape(1,-1)).reshape(-1,1)\n",
    "\n",
    "\n",
    "\n",
    "print(\"After vectorizations\")\n",
    "print(X_train_price_norm.shape, y_train.shape)\n",
    "print(X_cv_price_norm.shape, y_cv.shape)\n",
    "print(X_test_price_norm.shape, y_test.shape)\n",
    "print(\"=\"*100)\n",
    "\n",
    "features_list1 = features_list1 + vectorizer.get_feature_names()\n",
    "features_list2 = features_list2 + vectorizer.get_feature_names()"
   ]
  },
  {
   "cell_type": "code",
   "execution_count": 12,
   "metadata": {},
   "outputs": [
    {
     "name": "stdout",
     "output_type": "stream",
     "text": [
      "After vectorizations\n",
      "(24689, 1) (24689,)\n",
      "(12161, 1) (12161,)\n",
      "(18150, 1) (18150,)\n",
      "====================================================================================================\n"
     ]
    }
   ],
   "source": [
    "# for teacher_number_of_previously_posted_projects encoding\n",
    "from sklearn.preprocessing import Normalizer\n",
    "normalizer = Normalizer()\n",
    "\n",
    "normalizer.fit(X_train['price'].values.reshape(1,-1))\n",
    "\n",
    "X_train_prev_post_norm = normalizer.transform(X_train['teacher_number_of_previously_posted_projects'].values.reshape(1,-1)).reshape(-1,1)\n",
    "X_cv_prev_post_norm = normalizer.transform(X_cv['teacher_number_of_previously_posted_projects'].values.reshape(1,-1)).reshape(-1,1)\n",
    "X_test_prev_post_norm = normalizer.transform(X_test['teacher_number_of_previously_posted_projects'].values.reshape(1,-1)).reshape(-1,1)\n",
    "\n",
    "\n",
    "\n",
    "print(\"After vectorizations\")\n",
    "print(X_train_prev_post_norm.shape, y_train.shape)\n",
    "print(X_cv_prev_post_norm.shape, y_cv.shape)\n",
    "print(X_test_prev_post_norm.shape, y_test.shape)\n",
    "print(\"=\"*100)\n",
    "\n",
    "features_list1 = features_list1 + vectorizer.get_feature_names()\n",
    "features_list2 = features_list2 + vectorizer.get_feature_names()"
   ]
  },
  {
   "cell_type": "code",
   "execution_count": 13,
   "metadata": {},
   "outputs": [
    {
     "name": "stdout",
     "output_type": "stream",
     "text": [
      "Final Data matrix\n",
      "(24689, 5097) (24689,)\n",
      "(12161, 5097) (12161,)\n",
      "(18150, 5097) (18150,)\n",
      "====================================================================================================\n"
     ]
    }
   ],
   "source": [
    "# merge two sparse matrices: https://stackoverflow.com/a/19710648/4084039\n",
    "from scipy.sparse import hstack\n",
    "X_tr = hstack((X_train_essay_bow, X_train_state_ohe, X_train_teacher_ohe, X_train_grade_ohe,X_train_clean_cat,X_train_clean_subcat, X_train_price_norm,X_train_prev_post_norm)).tocsr()\n",
    "X_cr = hstack((X_cv_essay_bow, X_cv_state_ohe, X_cv_teacher_ohe, X_cv_grade_ohe,X_cv_clean_cat,X_cv_clean_subcat, X_cv_price_norm,X_cv_prev_post_norm)).tocsr()\n",
    "X_te = hstack((X_test_essay_bow, X_test_state_ohe, X_test_teacher_ohe, X_test_grade_ohe,X_test_clean_cat,X_test_clean_subcat, X_test_price_norm,X_test_prev_post_norm)).tocsr()\n",
    "\n",
    "print(\"Final Data matrix\")\n",
    "print(X_tr.shape, y_train.shape)\n",
    "print(X_cr.shape, y_cv.shape)\n",
    "print(X_te.shape, y_test.shape)\n",
    "print(\"=\"*100)\n",
    "\n"
   ]
  },
  {
   "cell_type": "code",
   "execution_count": null,
   "metadata": {},
   "outputs": [],
   "source": []
  },
  {
   "cell_type": "markdown",
   "metadata": {
    "colab_type": "text",
    "id": "yYHPYadYb3dh"
   },
   "source": [
    "<h2>1.5 Appling NB on different kind of featurization as mentioned in the instructions</h2>\n",
    "\n",
    "<br>Apply NB on different kind of featurization as mentioned in the instructions\n",
    "<br> For Every model that you work on make sure you do the step 2 and step 3 of instrucations"
   ]
  },
  {
   "cell_type": "code",
   "execution_count": 15,
   "metadata": {
    "colab": {},
    "colab_type": "code",
    "id": "DNwqilFxb3di"
   },
   "outputs": [
    {
     "data": {
      "image/png": "[encoded data removed]",
      "text/plain": [
       "<Figure size 432x288 with 1 Axes>"
      ]
     },
     "metadata": {
      "needs_background": "light"
     },
     "output_type": "display_data"
    }
   ],
   "source": [
    "import math\n",
    "from sklearn.naive_bayes import MultinomialNB as mnb\n",
    "from sklearn.metrics import roc_auc_score\n",
    "alphas = []\n",
    "train_scores = []\n",
    "cv_scores = []\n",
    "init = [10**i for i in range(-5 , 5 , 1)]\n",
    "for a in init:\n",
    "    alphas.append(math.log(a))\n",
    "    model = mnb(alpha = a,class_prior = [0.5 , 0.5])\n",
    "    model.fit(X_tr , y_train)\n",
    "    train_proba = model.predict_proba(X_tr)\n",
    "    cv_proba = model.predict_proba(X_cr)\n",
    "    train_score = roc_auc_score(y_train , train_proba[:,1])\n",
    "    cv_score = roc_auc_score(y_cv,cv_proba[:,1])\n",
    "    train_scores.append(train_score)\n",
    "    cv_scores.append(cv_score)\n",
    "\n",
    "plt.plot(alphas , train_scores , label = 'train_score')\n",
    "plt.plot(alphas , cv_scores , label = 'cv_score')\n",
    "plt.title('train vs cv scores set 1')\n",
    "plt.xlabel('hyper parameters')\n",
    "plt.ylabel('auc_score')\n",
    "plt.legend()\n",
    "plt.show()        "
   ]
  },
  {
   "cell_type": "code",
   "execution_count": 16,
   "metadata": {},
   "outputs": [
    {
     "data": {
      "image/png": "[encoded data removed]",
      "text/plain": [
       "<Figure size 432x288 with 1 Axes>"
      ]
     },
     "metadata": {
      "needs_background": "light"
     },
     "output_type": "display_data"
    }
   ],
   "source": [
    "from sklearn import metrics\n",
    "model = mnb(alpha = 10**-5 , class_prior = [0.5 , 0.5])\n",
    "model.fit(X_tr , y_train)\n",
    "proba = model.predict_proba(X_tr)\n",
    "fpr, tpr, thresholds = metrics.roc_curve(y_train, proba[:,1])\n",
    "proba = model.predict_proba(X_te)\n",
    "plt.plot(fpr , tpr , label = 'train')\n",
    "fpr, tpr, thresholds = metrics.roc_curve(y_test ,proba[:,1])\n",
    "plt.plot(fpr , tpr , label = 'test')\n",
    "plt.xlabel('fpr')\n",
    "plt.xlabel('tpr')\n",
    "plt.title('auc curve set 1')\n",
    "plt.plot([0,1],[0,1])\n",
    "plt.legend()\n",
    "plt.show()\n",
    "set1_auc = metrics.auc(fpr , tpr)"
   ]
  },
  {
   "cell_type": "code",
   "execution_count": 17,
   "metadata": {},
   "outputs": [
    {
     "name": "stdout",
     "output_type": "stream",
     "text": [
      "Set 1\n",
      " [[ 1724  1177]\n",
      " [ 4801 10448]]\n"
     ]
    }
   ],
   "source": [
    "from sklearn.metrics import confusion_matrix\n",
    "print(\"Set 1\\n\",confusion_matrix(y_test, model.predict(X_te)))\n"
   ]
  },
  {
   "cell_type": "markdown",
   "metadata": {},
   "source": [
    "### modelling for set 2"
   ]
  },
  {
   "cell_type": "code",
   "execution_count": 18,
   "metadata": {},
   "outputs": [],
   "source": [
    "X_tr = hstack((X_train_essay_tfidf, X_train_state_ohe, X_train_teacher_ohe, X_train_grade_ohe,X_train_clean_cat,X_train_clean_subcat, X_train_price_norm,X_train_prev_post_norm)).tocsr()\n",
    "X_cr = hstack((X_cv_essay_tfidf, X_cv_state_ohe, X_cv_teacher_ohe, X_cv_grade_ohe,X_cv_clean_cat,X_cv_clean_subcat, X_cv_price_norm,X_cv_prev_post_norm)).tocsr()\n",
    "X_te = hstack((X_test_essay_tfidf, X_test_state_ohe, X_test_teacher_ohe, X_test_grade_ohe,X_test_clean_cat,X_test_clean_subcat, X_test_price_norm,X_test_prev_post_norm)).tocsr()\n"
   ]
  },
  {
   "cell_type": "code",
   "execution_count": 19,
   "metadata": {},
   "outputs": [
    {
     "data": {
      "image/png": "[encoded data removed]",
      "text/plain": [
       "<Figure size 432x288 with 1 Axes>"
      ]
     },
     "metadata": {
      "needs_background": "light"
     },
     "output_type": "display_data"
    }
   ],
   "source": [
    "from sklearn.naive_bayes import MultinomialNB as mnb\n",
    "from sklearn.metrics import roc_auc_score\n",
    "alphas = []\n",
    "train_scores = []\n",
    "cv_scores = []\n",
    "init = [10**i for i in range(-5, 5 , 1)]\n",
    "for a in init:\n",
    "    alphas.append(math.log(a))\n",
    "    model = mnb(alpha = a , class_prior = [0.5 , 0.5])\n",
    "    model.fit(X_tr , y_train)\n",
    "    train_proba = model.predict_proba(X_tr)\n",
    "    cv_proba = model.predict_proba(X_cr)\n",
    "    train_score = roc_auc_score(y_train , train_proba[:,1])\n",
    "    cv_score = roc_auc_score(y_cv,cv_proba[:,1])\n",
    "    train_scores.append(train_score)\n",
    "    cv_scores.append(cv_score)\n",
    "\n",
    "plt.plot(alphas , train_scores , label = 'train_score')\n",
    "plt.plot(alphas , cv_scores , label = 'cv_score')\n",
    "plt.title('train vs cv scores set 2')\n",
    "plt.xlabel('hyper parameters')\n",
    "plt.ylabel('auc_score')\n",
    "plt.legend()\n",
    "plt.show()   "
   ]
  },
  {
   "cell_type": "code",
   "execution_count": 20,
   "metadata": {},
   "outputs": [
    {
     "data": {
      "image/png": "[encoded data removed]",
      "text/plain": [
       "<Figure size 432x288 with 1 Axes>"
      ]
     },
     "metadata": {
      "needs_background": "light"
     },
     "output_type": "display_data"
    }
   ],
   "source": [
    "from sklearn import metrics\n",
    "model2 = mnb(alpha = 10**-5 , class_prior = [0.5 , 0.5])\n",
    "model2.fit(X_tr , y_train)\n",
    "proba = model2.predict_proba(X_tr)\n",
    "fpr, tpr, thresholds = metrics.roc_curve(y_train, proba[:,1])\n",
    "proba = model2.predict_proba(X_te)\n",
    "plt.plot(fpr , tpr , label = 'train')\n",
    "fpr, tpr, thresholds = metrics.roc_curve(y_test ,proba[:,1])\n",
    "plt.plot(fpr , tpr , label = 'test')\n",
    "plt.xlabel('fpr')\n",
    "plt.xlabel('tpr')\n",
    "plt.title('auc curve set 2')\n",
    "plt.plot([0,1],[0,1])\n",
    "plt.legend()\n",
    "plt.show()\n",
    "set2_auc = metrics.auc(fpr , tpr)"
   ]
  },
  {
   "cell_type": "code",
   "execution_count": 22,
   "metadata": {},
   "outputs": [
    {
     "name": "stdout",
     "output_type": "stream",
     "text": [
      "Set 2\n",
      " [[    0  2901]\n",
      " [    0 15249]]\n"
     ]
    }
   ],
   "source": [
    "from sklearn.metrics import confusion_matrix\n",
    "print(\"Set 2\\n\",confusion_matrix(y_test, model.predict(X_te)))"
   ]
  },
  {
   "cell_type": "markdown",
   "metadata": {},
   "source": [
    "### most important features in the set 1"
   ]
  },
  {
   "cell_type": "code",
   "execution_count": 23,
   "metadata": {},
   "outputs": [],
   "source": [
    "final_list1 = []\n",
    "indexes = list(np.argsort(abs(model.feature_log_prob_[0])))[::-1]\n",
    "for i in range(0,20):\n",
    "    final_list1.append(features_list1[indexes[i]])"
   ]
  },
  {
   "cell_type": "code",
   "execution_count": 24,
   "metadata": {},
   "outputs": [
    {
     "name": "stdout",
     "output_type": "stream",
     "text": [
      "for set 1 ['wobble cushions', 'balance ball', 'maps', 'erase boards', 'dry erase boards', 'books allow', 'dash', 'waste', 'pedometers', 'chairs allow', 'edit', 'subscription', 'classroom rug', 'chairs help', 'dry erase markers', 'these chairs', 'basketballs', 'the wobble', 'balance balls', 'chromebooks classroom']\n"
     ]
    }
   ],
   "source": [
    "print(\"for set 1\",final_list1)"
   ]
  },
  {
   "cell_type": "code",
   "execution_count": 27,
   "metadata": {},
   "outputs": [],
   "source": [
    "final_list2 = []\n",
    "indexes = list(np.argsort(abs(model.feature_log_prob_[1])))[::-1]\n",
    "for i in range(0,20):\n",
    "    final_list2.append(features_list1[indexes[i]])"
   ]
  },
  {
   "cell_type": "code",
   "execution_count": 28,
   "metadata": {},
   "outputs": [
    {
     "name": "stdout",
     "output_type": "stream",
     "text": [
      "for set 1 ['dr', 'wy', 'many raised single parent', 'school day by', 'by creative positive', 'by creative positive way', 'early life', 'by creative', 'inspire even', 'creative positive way hopeful', 'however certainly control experience', 'lives however certainly control', 'certainly control experience school', 'us see', 'may prevent', 'earliest learners', 'simple provide students creative', 'however certainly control', 'control experience school', 'control experience school day']\n"
     ]
    }
   ],
   "source": [
    "print(\"for set 1\",final_list2)"
   ]
  },
  {
   "cell_type": "markdown",
   "metadata": {
    "colab_type": "text",
    "id": "lS9hIHdib3dp"
   },
   "source": [
    "<h1>3. Summary</h1>\n",
    "\n",
    "<br> as mentioned in the step 5 of instructions"
   ]
  },
  {
   "cell_type": "code",
   "execution_count": 30,
   "metadata": {},
   "outputs": [
    {
     "name": "stdout",
     "output_type": "stream",
     "text": [
      "+------------+----------------+----------------+--------------------+\n",
      "| Vectorizer |     model      | hyperparameter |        auc         |\n",
      "+------------+----------------+----------------+--------------------+\n",
      "|    BOW     | Multinomial NB |     10^-5      | 0.6880042472707848 |\n",
      "|   TF-IDF   | Multinomial NB |     10^-5      | 0.667914141961807  |\n",
      "+------------+----------------+----------------+--------------------+\n"
     ]
    }
   ],
   "source": [
    "#copied from here : https://stackoverflow.com/questions/9535954/printing-lists-as-tabular-data\n",
    "from prettytable import PrettyTable\n",
    "t = PrettyTable(['Vectorizer', 'model' , 'hyperparameter' , 'auc'])\n",
    "t.add_row(['BOW', 'Multinomial NB' , '10^-5' ,  set1_auc])\n",
    "t.add_row(['TF-IDF', 'Multinomial NB' , '10^-5' , set2_auc ])\n",
    "print(t)"
   ]
  },
  {
   "cell_type": "code",
   "execution_count": 31,
   "metadata": {},
   "outputs": [
    {
     "data": {
      "text/plain": [
       "array([[0.00312095],\n",
       "       [0.02344104],\n",
       "       [0.00098585],\n",
       "       ...,\n",
       "       [0.00125101],\n",
       "       [0.00106651],\n",
       "       [0.00067339]])"
      ]
     },
     "execution_count": 31,
     "metadata": {},
     "output_type": "execute_result"
    }
   ],
   "source": []
  },
  {
   "cell_type": "code",
   "execution_count": null,
   "metadata": {},
   "outputs": [],
   "source": []
  }
 ],
 "metadata": {
  "colab": {
   "collapsed_sections": [],
   "name": "6_Assignment_NB_Instructions.ipynb",
   "provenance": [],
   "version": "0.3.2"
  },
  "kernelspec": {
   "display_name": "Python 3",
   "language": "python",
   "name": "python3"
  },
  "language_info": {
   "codemirror_mode": {
    "name": "ipython",
    "version": 3
   },
   "file_extension": ".py",
   "mimetype": "text/x-python",
   "name": "python",
   "nbconvert_exporter": "python",
   "pygments_lexer": "ipython3",
   "version": "3.7.0"
  }
 },
 "nbformat": 4,
 "nbformat_minor": 1
}
